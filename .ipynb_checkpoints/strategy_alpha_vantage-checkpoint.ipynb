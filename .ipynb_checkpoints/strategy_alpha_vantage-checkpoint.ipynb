{
 "cells": [
  {
   "cell_type": "code",
   "execution_count": 1,
   "id": "00a853a8",
   "metadata": {},
   "outputs": [],
   "source": [
    "import pandas as pd \n",
    "import numpy as np\n",
    "\n",
    "from alpha_vantage.timeseries import TimeSeries\n",
    "import plotly.graph_objects as go\n",
    "\n",
    "\n",
    "\n",
    "class ScriptData:\n",
    "    \n",
    "    \n",
    "    def __init__(self):\n",
    "        self._dict = {}\n",
    "        self.api_key = 'H3UKOVC7728S4FJF'       # key of alpha vantage api\n",
    "        self.output_format ='pandas'            #output format\n",
    "        self.interval = '5min'                  # interval for market data\n",
    "        \n",
    "    def __getitem__(self, script):\n",
    "        if self.__contains__(script):\n",
    "            return self._dict[script]\n",
    "        return \"NO Key Found\"\n",
    "        \n",
    "           \n",
    "    def __setitem__(self, script, val):\n",
    "            self._dict[script] = val\n",
    "\n",
    "    def __contains__(self, script):\n",
    "            \n",
    "        if script in self._dict :\n",
    "            return True \n",
    "        else:\n",
    "            return False\n",
    "        \n",
    "        \n",
    "    def fetch_intraday_data(self, script): \n",
    "        ts = TimeSeries(key= self.api_key, output_format=self.output_format)\n",
    "        #calling alpha vantage api\n",
    "        \n",
    "        data, meta_data = ts.get_intraday(symbol=script,interval=self.interval, outputsize='full')\n",
    "        self.__setitem__(script, data)\n",
    "        \n",
    "        ## set the data in _dict (key = script)\n",
    "    \n",
    "    \n",
    "    def convert_intraday_data(self, script):\n",
    "        data = self.__getitem__(script)\n",
    "        #getting data from _dict\n",
    "        \n",
    "        df = pd.DataFrame(data).reset_index(level=0)\n",
    "        # creating panda dataframe and reset the index\n",
    "        \n",
    "        df.rename(columns = {'date':'timestamp', \n",
    "                             '1. open':'open',\n",
    "                             '2. high':'high',\n",
    "                             '3. low':'low',\n",
    "                             '4. close':'close',\n",
    "                             '5. volume':'volume'}, \n",
    "                              inplace = True )\n",
    "        \n",
    "        #renamed the column names\n",
    "        \n",
    "        self.__setitem__(script, df)\n",
    "        # update the df in _dict \n",
    "        \n",
    "   "
   ]
  },
  {
   "cell_type": "code",
   "execution_count": 2,
   "id": "7758c83e",
   "metadata": {},
   "outputs": [],
   "source": [
    "script_data = ScriptData()"
   ]
  },
  {
   "cell_type": "code",
   "execution_count": 3,
   "id": "cbeafca7",
   "metadata": {},
   "outputs": [
    {
     "data": {
      "text/html": [
       "<div>\n",
       "<style scoped>\n",
       "    .dataframe tbody tr th:only-of-type {\n",
       "        vertical-align: middle;\n",
       "    }\n",
       "\n",
       "    .dataframe tbody tr th {\n",
       "        vertical-align: top;\n",
       "    }\n",
       "\n",
       "    .dataframe thead th {\n",
       "        text-align: right;\n",
       "    }\n",
       "</style>\n",
       "<table border=\"1\" class=\"dataframe\">\n",
       "  <thead>\n",
       "    <tr style=\"text-align: right;\">\n",
       "      <th></th>\n",
       "      <th>timestamp</th>\n",
       "      <th>open</th>\n",
       "      <th>high</th>\n",
       "      <th>low</th>\n",
       "      <th>close</th>\n",
       "      <th>volume</th>\n",
       "    </tr>\n",
       "  </thead>\n",
       "  <tbody>\n",
       "    <tr>\n",
       "      <th>0</th>\n",
       "      <td>2023-02-21 20:00:00</td>\n",
       "      <td>91.88</td>\n",
       "      <td>91.92</td>\n",
       "      <td>91.80</td>\n",
       "      <td>91.82</td>\n",
       "      <td>4901.0</td>\n",
       "    </tr>\n",
       "    <tr>\n",
       "      <th>1</th>\n",
       "      <td>2023-02-21 19:55:00</td>\n",
       "      <td>91.83</td>\n",
       "      <td>91.85</td>\n",
       "      <td>91.83</td>\n",
       "      <td>91.84</td>\n",
       "      <td>1222.0</td>\n",
       "    </tr>\n",
       "    <tr>\n",
       "      <th>2</th>\n",
       "      <td>2023-02-21 19:50:00</td>\n",
       "      <td>91.85</td>\n",
       "      <td>91.86</td>\n",
       "      <td>91.85</td>\n",
       "      <td>91.86</td>\n",
       "      <td>1577.0</td>\n",
       "    </tr>\n",
       "    <tr>\n",
       "      <th>3</th>\n",
       "      <td>2023-02-21 19:45:00</td>\n",
       "      <td>91.86</td>\n",
       "      <td>91.86</td>\n",
       "      <td>91.86</td>\n",
       "      <td>91.86</td>\n",
       "      <td>831.0</td>\n",
       "    </tr>\n",
       "    <tr>\n",
       "      <th>4</th>\n",
       "      <td>2023-02-21 19:40:00</td>\n",
       "      <td>91.86</td>\n",
       "      <td>91.89</td>\n",
       "      <td>91.80</td>\n",
       "      <td>91.86</td>\n",
       "      <td>3540.0</td>\n",
       "    </tr>\n",
       "    <tr>\n",
       "      <th>...</th>\n",
       "      <td>...</td>\n",
       "      <td>...</td>\n",
       "      <td>...</td>\n",
       "      <td>...</td>\n",
       "      <td>...</td>\n",
       "      <td>...</td>\n",
       "    </tr>\n",
       "    <tr>\n",
       "      <th>3708</th>\n",
       "      <td>2023-01-24 04:25:00</td>\n",
       "      <td>99.05</td>\n",
       "      <td>99.22</td>\n",
       "      <td>99.05</td>\n",
       "      <td>99.19</td>\n",
       "      <td>971.0</td>\n",
       "    </tr>\n",
       "    <tr>\n",
       "      <th>3709</th>\n",
       "      <td>2023-01-24 04:20:00</td>\n",
       "      <td>99.00</td>\n",
       "      <td>99.13</td>\n",
       "      <td>99.00</td>\n",
       "      <td>99.00</td>\n",
       "      <td>1848.0</td>\n",
       "    </tr>\n",
       "    <tr>\n",
       "      <th>3710</th>\n",
       "      <td>2023-01-24 04:15:00</td>\n",
       "      <td>98.94</td>\n",
       "      <td>99.00</td>\n",
       "      <td>98.94</td>\n",
       "      <td>99.00</td>\n",
       "      <td>1054.0</td>\n",
       "    </tr>\n",
       "    <tr>\n",
       "      <th>3711</th>\n",
       "      <td>2023-01-24 04:10:00</td>\n",
       "      <td>98.65</td>\n",
       "      <td>98.79</td>\n",
       "      <td>98.65</td>\n",
       "      <td>98.79</td>\n",
       "      <td>1031.0</td>\n",
       "    </tr>\n",
       "    <tr>\n",
       "      <th>3712</th>\n",
       "      <td>2023-01-24 04:05:00</td>\n",
       "      <td>98.70</td>\n",
       "      <td>98.73</td>\n",
       "      <td>98.57</td>\n",
       "      <td>98.62</td>\n",
       "      <td>2813.0</td>\n",
       "    </tr>\n",
       "  </tbody>\n",
       "</table>\n",
       "<p>3713 rows × 6 columns</p>\n",
       "</div>"
      ],
      "text/plain": [
       "               timestamp   open   high    low  close  volume\n",
       "0    2023-02-21 20:00:00  91.88  91.92  91.80  91.82  4901.0\n",
       "1    2023-02-21 19:55:00  91.83  91.85  91.83  91.84  1222.0\n",
       "2    2023-02-21 19:50:00  91.85  91.86  91.85  91.86  1577.0\n",
       "3    2023-02-21 19:45:00  91.86  91.86  91.86  91.86   831.0\n",
       "4    2023-02-21 19:40:00  91.86  91.89  91.80  91.86  3540.0\n",
       "...                  ...    ...    ...    ...    ...     ...\n",
       "3708 2023-01-24 04:25:00  99.05  99.22  99.05  99.19   971.0\n",
       "3709 2023-01-24 04:20:00  99.00  99.13  99.00  99.00  1848.0\n",
       "3710 2023-01-24 04:15:00  98.94  99.00  98.94  99.00  1054.0\n",
       "3711 2023-01-24 04:10:00  98.65  98.79  98.65  98.79  1031.0\n",
       "3712 2023-01-24 04:05:00  98.70  98.73  98.57  98.62  2813.0\n",
       "\n",
       "[3713 rows x 6 columns]"
      ]
     },
     "execution_count": 3,
     "metadata": {},
     "output_type": "execute_result"
    }
   ],
   "source": [
    "script_data.fetch_intraday_data(\"GOOGL\")\n",
    "script_data.convert_intraday_data(\"GOOGL\")\n",
    "script_data['GOOGL']\n"
   ]
  },
  {
   "cell_type": "code",
   "execution_count": null,
   "id": "dfe12889",
   "metadata": {},
   "outputs": [],
   "source": []
  },
  {
   "cell_type": "code",
   "execution_count": 4,
   "id": "f861bea5",
   "metadata": {},
   "outputs": [
    {
     "data": {
      "text/html": [
       "<div>\n",
       "<style scoped>\n",
       "    .dataframe tbody tr th:only-of-type {\n",
       "        vertical-align: middle;\n",
       "    }\n",
       "\n",
       "    .dataframe tbody tr th {\n",
       "        vertical-align: top;\n",
       "    }\n",
       "\n",
       "    .dataframe thead th {\n",
       "        text-align: right;\n",
       "    }\n",
       "</style>\n",
       "<table border=\"1\" class=\"dataframe\">\n",
       "  <thead>\n",
       "    <tr style=\"text-align: right;\">\n",
       "      <th></th>\n",
       "      <th>timestamp</th>\n",
       "      <th>open</th>\n",
       "      <th>high</th>\n",
       "      <th>low</th>\n",
       "      <th>close</th>\n",
       "      <th>volume</th>\n",
       "    </tr>\n",
       "  </thead>\n",
       "  <tbody>\n",
       "    <tr>\n",
       "      <th>0</th>\n",
       "      <td>2023-02-21 20:00:00</td>\n",
       "      <td>148.6600</td>\n",
       "      <td>148.7200</td>\n",
       "      <td>148.6500</td>\n",
       "      <td>148.7200</td>\n",
       "      <td>6260.0</td>\n",
       "    </tr>\n",
       "    <tr>\n",
       "      <th>1</th>\n",
       "      <td>2023-02-21 19:55:00</td>\n",
       "      <td>148.6600</td>\n",
       "      <td>148.7300</td>\n",
       "      <td>148.6500</td>\n",
       "      <td>148.6500</td>\n",
       "      <td>3554.0</td>\n",
       "    </tr>\n",
       "    <tr>\n",
       "      <th>2</th>\n",
       "      <td>2023-02-21 19:50:00</td>\n",
       "      <td>148.7000</td>\n",
       "      <td>148.7200</td>\n",
       "      <td>148.7000</td>\n",
       "      <td>148.7200</td>\n",
       "      <td>4822.0</td>\n",
       "    </tr>\n",
       "    <tr>\n",
       "      <th>3</th>\n",
       "      <td>2023-02-21 19:45:00</td>\n",
       "      <td>148.7600</td>\n",
       "      <td>148.7600</td>\n",
       "      <td>148.6800</td>\n",
       "      <td>148.7000</td>\n",
       "      <td>5985.0</td>\n",
       "    </tr>\n",
       "    <tr>\n",
       "      <th>4</th>\n",
       "      <td>2023-02-21 19:40:00</td>\n",
       "      <td>148.8000</td>\n",
       "      <td>148.8000</td>\n",
       "      <td>148.7700</td>\n",
       "      <td>148.7700</td>\n",
       "      <td>1900.0</td>\n",
       "    </tr>\n",
       "    <tr>\n",
       "      <th>...</th>\n",
       "      <td>...</td>\n",
       "      <td>...</td>\n",
       "      <td>...</td>\n",
       "      <td>...</td>\n",
       "      <td>...</td>\n",
       "      <td>...</td>\n",
       "    </tr>\n",
       "    <tr>\n",
       "      <th>3770</th>\n",
       "      <td>2023-01-24 04:30:00</td>\n",
       "      <td>140.7856</td>\n",
       "      <td>140.7856</td>\n",
       "      <td>140.7057</td>\n",
       "      <td>140.7057</td>\n",
       "      <td>3058.0</td>\n",
       "    </tr>\n",
       "    <tr>\n",
       "      <th>3771</th>\n",
       "      <td>2023-01-24 04:25:00</td>\n",
       "      <td>140.8555</td>\n",
       "      <td>140.8555</td>\n",
       "      <td>140.8555</td>\n",
       "      <td>140.8555</td>\n",
       "      <td>246.0</td>\n",
       "    </tr>\n",
       "    <tr>\n",
       "      <th>3772</th>\n",
       "      <td>2023-01-24 04:15:00</td>\n",
       "      <td>140.8655</td>\n",
       "      <td>140.8754</td>\n",
       "      <td>140.8655</td>\n",
       "      <td>140.8754</td>\n",
       "      <td>1300.0</td>\n",
       "    </tr>\n",
       "    <tr>\n",
       "      <th>3773</th>\n",
       "      <td>2023-01-24 04:10:00</td>\n",
       "      <td>140.8455</td>\n",
       "      <td>140.9653</td>\n",
       "      <td>140.8455</td>\n",
       "      <td>140.9553</td>\n",
       "      <td>3468.0</td>\n",
       "    </tr>\n",
       "    <tr>\n",
       "      <th>3774</th>\n",
       "      <td>2023-01-24 04:05:00</td>\n",
       "      <td>140.9953</td>\n",
       "      <td>140.9953</td>\n",
       "      <td>140.7956</td>\n",
       "      <td>140.7956</td>\n",
       "      <td>3719.0</td>\n",
       "    </tr>\n",
       "  </tbody>\n",
       "</table>\n",
       "<p>3775 rows × 6 columns</p>\n",
       "</div>"
      ],
      "text/plain": [
       "               timestamp      open      high       low     close  volume\n",
       "0    2023-02-21 20:00:00  148.6600  148.7200  148.6500  148.7200  6260.0\n",
       "1    2023-02-21 19:55:00  148.6600  148.7300  148.6500  148.6500  3554.0\n",
       "2    2023-02-21 19:50:00  148.7000  148.7200  148.7000  148.7200  4822.0\n",
       "3    2023-02-21 19:45:00  148.7600  148.7600  148.6800  148.7000  5985.0\n",
       "4    2023-02-21 19:40:00  148.8000  148.8000  148.7700  148.7700  1900.0\n",
       "...                  ...       ...       ...       ...       ...     ...\n",
       "3770 2023-01-24 04:30:00  140.7856  140.7856  140.7057  140.7057  3058.0\n",
       "3771 2023-01-24 04:25:00  140.8555  140.8555  140.8555  140.8555   246.0\n",
       "3772 2023-01-24 04:15:00  140.8655  140.8754  140.8655  140.8754  1300.0\n",
       "3773 2023-01-24 04:10:00  140.8455  140.9653  140.8455  140.9553  3468.0\n",
       "3774 2023-01-24 04:05:00  140.9953  140.9953  140.7956  140.7956  3719.0\n",
       "\n",
       "[3775 rows x 6 columns]"
      ]
     },
     "execution_count": 4,
     "metadata": {},
     "output_type": "execute_result"
    }
   ],
   "source": [
    "script_data.fetch_intraday_data(\"AAPL\")\n",
    "script_data.convert_intraday_data(\"AAPL\")\n",
    "script_data['AAPL']\n"
   ]
  },
  {
   "cell_type": "code",
   "execution_count": 5,
   "id": "d4306c78",
   "metadata": {},
   "outputs": [
    {
     "data": {
      "text/plain": [
       "True"
      ]
     },
     "execution_count": 5,
     "metadata": {},
     "output_type": "execute_result"
    }
   ],
   "source": [
    "'GOOGL' in script_data"
   ]
  },
  {
   "cell_type": "code",
   "execution_count": 6,
   "id": "261b76b7",
   "metadata": {},
   "outputs": [
    {
     "data": {
      "text/plain": [
       "True"
      ]
     },
     "execution_count": 6,
     "metadata": {},
     "output_type": "execute_result"
    }
   ],
   "source": [
    "'AAPL' in script_data"
   ]
  },
  {
   "cell_type": "code",
   "execution_count": 7,
   "id": "6ced7cd0",
   "metadata": {},
   "outputs": [
    {
     "data": {
      "text/plain": [
       "False"
      ]
     },
     "execution_count": 7,
     "metadata": {},
     "output_type": "execute_result"
    }
   ],
   "source": [
    "'NVDA' in script_data"
   ]
  },
  {
   "cell_type": "code",
   "execution_count": 8,
   "id": "5bac11cf",
   "metadata": {},
   "outputs": [],
   "source": [
    "def indicator1(df, timeperiod):\n",
    "    \n",
    "    indicator_df = pd.DataFrame({ \n",
    "                         \"timestamp\":df[\"timestamp\"],\n",
    "                         \"indicator\":df['close'].rolling(window=timeperiod).mean()\n",
    "                          })\n",
    "    \n",
    "    \"\"\" creating new dataframe with 2 colums and calculating \n",
    "        moving average of close column\n",
    "    \"\"\"\n",
    "    return indicator_df"
   ]
  },
  {
   "cell_type": "code",
   "execution_count": 9,
   "id": "93ea3448",
   "metadata": {},
   "outputs": [
    {
     "data": {
      "text/html": [
       "<div>\n",
       "<style scoped>\n",
       "    .dataframe tbody tr th:only-of-type {\n",
       "        vertical-align: middle;\n",
       "    }\n",
       "\n",
       "    .dataframe tbody tr th {\n",
       "        vertical-align: top;\n",
       "    }\n",
       "\n",
       "    .dataframe thead th {\n",
       "        text-align: right;\n",
       "    }\n",
       "</style>\n",
       "<table border=\"1\" class=\"dataframe\">\n",
       "  <thead>\n",
       "    <tr style=\"text-align: right;\">\n",
       "      <th></th>\n",
       "      <th>timestamp</th>\n",
       "      <th>indicator</th>\n",
       "    </tr>\n",
       "  </thead>\n",
       "  <tbody>\n",
       "    <tr>\n",
       "      <th>0</th>\n",
       "      <td>2023-02-21 20:00:00</td>\n",
       "      <td>NaN</td>\n",
       "    </tr>\n",
       "    <tr>\n",
       "      <th>1</th>\n",
       "      <td>2023-02-21 19:55:00</td>\n",
       "      <td>NaN</td>\n",
       "    </tr>\n",
       "    <tr>\n",
       "      <th>2</th>\n",
       "      <td>2023-02-21 19:50:00</td>\n",
       "      <td>NaN</td>\n",
       "    </tr>\n",
       "    <tr>\n",
       "      <th>3</th>\n",
       "      <td>2023-02-21 19:45:00</td>\n",
       "      <td>NaN</td>\n",
       "    </tr>\n",
       "    <tr>\n",
       "      <th>4</th>\n",
       "      <td>2023-02-21 19:40:00</td>\n",
       "      <td>91.848</td>\n",
       "    </tr>\n",
       "    <tr>\n",
       "      <th>...</th>\n",
       "      <td>...</td>\n",
       "      <td>...</td>\n",
       "    </tr>\n",
       "    <tr>\n",
       "      <th>3708</th>\n",
       "      <td>2023-01-24 04:25:00</td>\n",
       "      <td>99.058</td>\n",
       "    </tr>\n",
       "    <tr>\n",
       "      <th>3709</th>\n",
       "      <td>2023-01-24 04:20:00</td>\n",
       "      <td>99.038</td>\n",
       "    </tr>\n",
       "    <tr>\n",
       "      <th>3710</th>\n",
       "      <td>2023-01-24 04:15:00</td>\n",
       "      <td>99.038</td>\n",
       "    </tr>\n",
       "    <tr>\n",
       "      <th>3711</th>\n",
       "      <td>2023-01-24 04:10:00</td>\n",
       "      <td>99.026</td>\n",
       "    </tr>\n",
       "    <tr>\n",
       "      <th>3712</th>\n",
       "      <td>2023-01-24 04:05:00</td>\n",
       "      <td>98.920</td>\n",
       "    </tr>\n",
       "  </tbody>\n",
       "</table>\n",
       "<p>3713 rows × 2 columns</p>\n",
       "</div>"
      ],
      "text/plain": [
       "               timestamp  indicator\n",
       "0    2023-02-21 20:00:00        NaN\n",
       "1    2023-02-21 19:55:00        NaN\n",
       "2    2023-02-21 19:50:00        NaN\n",
       "3    2023-02-21 19:45:00        NaN\n",
       "4    2023-02-21 19:40:00     91.848\n",
       "...                  ...        ...\n",
       "3708 2023-01-24 04:25:00     99.058\n",
       "3709 2023-01-24 04:20:00     99.038\n",
       "3710 2023-01-24 04:15:00     99.038\n",
       "3711 2023-01-24 04:10:00     99.026\n",
       "3712 2023-01-24 04:05:00     98.920\n",
       "\n",
       "[3713 rows x 2 columns]"
      ]
     },
     "execution_count": 9,
     "metadata": {},
     "output_type": "execute_result"
    }
   ],
   "source": [
    "indicator1(script_data['GOOGL'], timeperiod = 5)"
   ]
  },
  {
   "cell_type": "code",
   "execution_count": 10,
   "id": "e07bb458",
   "metadata": {},
   "outputs": [
    {
     "data": {
      "text/html": [
       "<div>\n",
       "<style scoped>\n",
       "    .dataframe tbody tr th:only-of-type {\n",
       "        vertical-align: middle;\n",
       "    }\n",
       "\n",
       "    .dataframe tbody tr th {\n",
       "        vertical-align: top;\n",
       "    }\n",
       "\n",
       "    .dataframe thead th {\n",
       "        text-align: right;\n",
       "    }\n",
       "</style>\n",
       "<table border=\"1\" class=\"dataframe\">\n",
       "  <thead>\n",
       "    <tr style=\"text-align: right;\">\n",
       "      <th></th>\n",
       "      <th>timestamp</th>\n",
       "      <th>indicator</th>\n",
       "    </tr>\n",
       "  </thead>\n",
       "  <tbody>\n",
       "    <tr>\n",
       "      <th>0</th>\n",
       "      <td>2023-02-21 20:00:00</td>\n",
       "      <td>NaN</td>\n",
       "    </tr>\n",
       "    <tr>\n",
       "      <th>1</th>\n",
       "      <td>2023-02-21 19:55:00</td>\n",
       "      <td>NaN</td>\n",
       "    </tr>\n",
       "    <tr>\n",
       "      <th>2</th>\n",
       "      <td>2023-02-21 19:50:00</td>\n",
       "      <td>NaN</td>\n",
       "    </tr>\n",
       "    <tr>\n",
       "      <th>3</th>\n",
       "      <td>2023-02-21 19:45:00</td>\n",
       "      <td>NaN</td>\n",
       "    </tr>\n",
       "    <tr>\n",
       "      <th>4</th>\n",
       "      <td>2023-02-21 19:40:00</td>\n",
       "      <td>148.71200</td>\n",
       "    </tr>\n",
       "    <tr>\n",
       "      <th>...</th>\n",
       "      <td>...</td>\n",
       "      <td>...</td>\n",
       "    </tr>\n",
       "    <tr>\n",
       "      <th>3770</th>\n",
       "      <td>2023-01-24 04:30:00</td>\n",
       "      <td>140.61184</td>\n",
       "    </tr>\n",
       "    <tr>\n",
       "      <th>3771</th>\n",
       "      <td>2023-01-24 04:25:00</td>\n",
       "      <td>140.63382</td>\n",
       "    </tr>\n",
       "    <tr>\n",
       "      <th>3772</th>\n",
       "      <td>2023-01-24 04:15:00</td>\n",
       "      <td>140.69772</td>\n",
       "    </tr>\n",
       "    <tr>\n",
       "      <th>3773</th>\n",
       "      <td>2023-01-24 04:10:00</td>\n",
       "      <td>140.81154</td>\n",
       "    </tr>\n",
       "    <tr>\n",
       "      <th>3774</th>\n",
       "      <td>2023-01-24 04:05:00</td>\n",
       "      <td>140.83750</td>\n",
       "    </tr>\n",
       "  </tbody>\n",
       "</table>\n",
       "<p>3775 rows × 2 columns</p>\n",
       "</div>"
      ],
      "text/plain": [
       "               timestamp  indicator\n",
       "0    2023-02-21 20:00:00        NaN\n",
       "1    2023-02-21 19:55:00        NaN\n",
       "2    2023-02-21 19:50:00        NaN\n",
       "3    2023-02-21 19:45:00        NaN\n",
       "4    2023-02-21 19:40:00  148.71200\n",
       "...                  ...        ...\n",
       "3770 2023-01-24 04:30:00  140.61184\n",
       "3771 2023-01-24 04:25:00  140.63382\n",
       "3772 2023-01-24 04:15:00  140.69772\n",
       "3773 2023-01-24 04:10:00  140.81154\n",
       "3774 2023-01-24 04:05:00  140.83750\n",
       "\n",
       "[3775 rows x 2 columns]"
      ]
     },
     "execution_count": 10,
     "metadata": {},
     "output_type": "execute_result"
    }
   ],
   "source": [
    "indicator1(script_data['AAPL'], timeperiod = 5)"
   ]
  },
  {
   "cell_type": "code",
   "execution_count": 27,
   "id": "1119d8ce",
   "metadata": {},
   "outputs": [],
   "source": [
    "class Strategy:\n",
    "    def __init__(self, script):\n",
    "        self.script = script\n",
    "        self.timeperiod = 5\n",
    "       \n",
    "        \n",
    "    def get_script_data(self):\n",
    "        self.script_data = ScriptData()\n",
    "        self.script_data.fetch_intraday_data(self.script)\n",
    "        self.script_data.convert_intraday_data(self.script)\n",
    "        #script_data[self.script]\n",
    "    \n",
    "    def get_signals(self):\n",
    "        indicator_data = indicator1(\n",
    "                             self.script_data[self.script],  \n",
    "                             self.timeperiod )\n",
    "        \n",
    "        self.temp_df = pd.merge(self.script_data[self.script], \n",
    "                           indicator_data, on='timestamp')\n",
    "        #merging df and indicator_df o timestamp and creating temp_df\n",
    "        \n",
    "        del indicator_data\n",
    "        \n",
    "        self.temp_df['Diff'] = self.temp_df.close - self.temp_df.indicator\n",
    "        \"\"\" Difference of close_data and indicator data \"\"\"\n",
    "        \n",
    "        self.temp_df['signal'] = np.select([((self.temp_df.Diff < 0) & (self.temp_df.Diff.shift() > 0)),\n",
    "                                     ((self.temp_df.Diff > 0) & (self.temp_df.Diff.shift() < 0))], \n",
    "                                     ['BUY', 'SELL'], 'None')\n",
    "        \"\"\"  \n",
    "             diff < 0 and next index of diff > 0 then BUY\n",
    "             diff > 0 and next index of diff  < 0 then SELL\n",
    "         \"\"\"\n",
    "        \n",
    "        signals = self.temp_df.loc[self.temp_df['signal'].isin(['BUY','SELL'])]\n",
    "        \n",
    "        \"\"\" Checking signal = BUY or SELL and then accessing only those rows \"\"\"\n",
    "        \n",
    "        signals = pd.DataFrame({'timestamp':signals['timestamp'],\n",
    "                      'signal':signals['signal']}).reset_index(drop=True)\n",
    "        \n",
    "        \"\"\" created new df --> signals with 2 column -> timestamp and signal\"\"\"\n",
    "        \n",
    "        return signals\n",
    "    \n",
    "    \n",
    "    \n",
    "    \n",
    "    def plot_candlestick(self):\n",
    "        \n",
    "        \"\"\" Function for plotting the candlestic chart\"\"\"\n",
    "        df_ = self.temp_df.head(100)\n",
    "        fig = go.Figure(data=[go.Candlestick(x=df_['timestamp'],\n",
    "                open = df_['open'],\n",
    "                high = df_['high'],\n",
    "                low = df_['low'],\n",
    "                close = df_['close'])])\n",
    "\n",
    "        fig.show()\n"
   ]
  },
  {
   "cell_type": "code",
   "execution_count": 28,
   "id": "b0036437",
   "metadata": {},
   "outputs": [],
   "source": [
    "strategy = Strategy('NVDA')"
   ]
  },
  {
   "cell_type": "code",
   "execution_count": 30,
   "id": "39aec272",
   "metadata": {},
   "outputs": [],
   "source": [
    "strategy.get_script_data()"
   ]
  },
  {
   "cell_type": "code",
   "execution_count": 31,
   "id": "7c344398",
   "metadata": {},
   "outputs": [
    {
     "data": {
      "text/html": [
       "<div>\n",
       "<style scoped>\n",
       "    .dataframe tbody tr th:only-of-type {\n",
       "        vertical-align: middle;\n",
       "    }\n",
       "\n",
       "    .dataframe tbody tr th {\n",
       "        vertical-align: top;\n",
       "    }\n",
       "\n",
       "    .dataframe thead th {\n",
       "        text-align: right;\n",
       "    }\n",
       "</style>\n",
       "<table border=\"1\" class=\"dataframe\">\n",
       "  <thead>\n",
       "    <tr style=\"text-align: right;\">\n",
       "      <th></th>\n",
       "      <th>timestamp</th>\n",
       "      <th>signal</th>\n",
       "    </tr>\n",
       "  </thead>\n",
       "  <tbody>\n",
       "    <tr>\n",
       "      <th>0</th>\n",
       "      <td>2023-02-21 19:25:00</td>\n",
       "      <td>BUY</td>\n",
       "    </tr>\n",
       "    <tr>\n",
       "      <th>1</th>\n",
       "      <td>2023-02-21 19:10:00</td>\n",
       "      <td>SELL</td>\n",
       "    </tr>\n",
       "    <tr>\n",
       "      <th>2</th>\n",
       "      <td>2023-02-21 19:05:00</td>\n",
       "      <td>BUY</td>\n",
       "    </tr>\n",
       "    <tr>\n",
       "      <th>3</th>\n",
       "      <td>2023-02-21 18:30:00</td>\n",
       "      <td>SELL</td>\n",
       "    </tr>\n",
       "    <tr>\n",
       "      <th>4</th>\n",
       "      <td>2023-02-21 18:25:00</td>\n",
       "      <td>BUY</td>\n",
       "    </tr>\n",
       "    <tr>\n",
       "      <th>...</th>\n",
       "      <td>...</td>\n",
       "      <td>...</td>\n",
       "    </tr>\n",
       "    <tr>\n",
       "      <th>1021</th>\n",
       "      <td>2023-01-24 06:50:00</td>\n",
       "      <td>SELL</td>\n",
       "    </tr>\n",
       "    <tr>\n",
       "      <th>1022</th>\n",
       "      <td>2023-01-24 05:30:00</td>\n",
       "      <td>BUY</td>\n",
       "    </tr>\n",
       "    <tr>\n",
       "      <th>1023</th>\n",
       "      <td>2023-01-24 05:10:00</td>\n",
       "      <td>SELL</td>\n",
       "    </tr>\n",
       "    <tr>\n",
       "      <th>1024</th>\n",
       "      <td>2023-01-24 04:55:00</td>\n",
       "      <td>BUY</td>\n",
       "    </tr>\n",
       "    <tr>\n",
       "      <th>1025</th>\n",
       "      <td>2023-01-24 04:50:00</td>\n",
       "      <td>SELL</td>\n",
       "    </tr>\n",
       "  </tbody>\n",
       "</table>\n",
       "<p>1026 rows × 2 columns</p>\n",
       "</div>"
      ],
      "text/plain": [
       "               timestamp signal\n",
       "0    2023-02-21 19:25:00    BUY\n",
       "1    2023-02-21 19:10:00   SELL\n",
       "2    2023-02-21 19:05:00    BUY\n",
       "3    2023-02-21 18:30:00   SELL\n",
       "4    2023-02-21 18:25:00    BUY\n",
       "...                  ...    ...\n",
       "1021 2023-01-24 06:50:00   SELL\n",
       "1022 2023-01-24 05:30:00    BUY\n",
       "1023 2023-01-24 05:10:00   SELL\n",
       "1024 2023-01-24 04:55:00    BUY\n",
       "1025 2023-01-24 04:50:00   SELL\n",
       "\n",
       "[1026 rows x 2 columns]"
      ]
     },
     "execution_count": 31,
     "metadata": {},
     "output_type": "execute_result"
    }
   ],
   "source": [
    "strategy.get_signals()"
   ]
  },
  {
   "cell_type": "code",
   "execution_count": 32,
   "id": "dc87518f",
   "metadata": {
    "scrolled": true
   },
   "outputs": [
    {
     "data": {
      "application/vnd.plotly.v1+json": {
       "config": {
        "plotlyServerURL": "https://plot.ly"
       },
       "data": [
        {
         "close": [
          206.2,
          206.33,
          206.25,
          206.2,
          206.45,
          206.49,
          206.45,
          206.01,
          206.22,
          206,
          206.18,
          206,
          205.9,
          205.7,
          205.6,
          205.6,
          205.54,
          205.5,
          205.58,
          205.5,
          205.72,
          205.9,
          206.05,
          206.2,
          206.061,
          206.51,
          206.6,
          206.6,
          206.66,
          206.65,
          206.75,
          206.75,
          206.75,
          206.75,
          206.8,
          206.78,
          206.82,
          206.78,
          206.7,
          206.7457,
          206.8,
          206.9419,
          206.78,
          206.7,
          206.65,
          206.7,
          206.55,
          206.71,
          206.57,
          206.6716,
          207.47,
          207.0746,
          206.67,
          207.1,
          206.8828,
          207.39,
          207.1963,
          207.2801,
          207.335,
          208.07,
          207.5,
          207.97,
          208.4978,
          208.59,
          208.68,
          208.5495,
          208.21,
          207.9899,
          207.6618,
          208.2604,
          208.415,
          208.46,
          208.93,
          209.1,
          208.96,
          209.01,
          208.99,
          208.895,
          209.1299,
          209.315,
          209.2,
          209.391,
          209.745,
          210.28,
          210.4093,
          209.93,
          210.0399,
          209.31,
          209.237,
          209.2199,
          208.63,
          209.28,
          209.3791,
          209.01,
          209.09,
          208.5805,
          208.91,
          209.5276,
          209.96,
          210.075
         ],
         "high": [
          206.42,
          206.4,
          206.33,
          206.38,
          206.45,
          206.55,
          206.45,
          206.19,
          206.22,
          206.18,
          206.2999,
          206.3,
          205.9,
          205.75,
          205.7,
          205.61,
          205.62,
          205.78,
          205.6,
          205.85,
          205.89,
          206,
          206.2,
          206.4,
          206.5615,
          206.61,
          206.6999,
          206.65,
          206.66,
          206.7,
          206.75,
          206.8,
          206.8,
          206.8,
          206.82,
          206.82,
          206.82,
          206.78,
          206.84,
          206.8,
          206.9,
          206.95,
          206.95,
          206.7,
          206.8,
          207,
          207.06,
          209.42,
          206.95,
          207.71,
          207.64,
          207.17,
          207.5323,
          207.32,
          207.41,
          207.57,
          207.5599,
          207.51,
          208.3492,
          208.08,
          208.1597,
          208.4999,
          209.24,
          208.77,
          208.68,
          208.661,
          208.4613,
          208.132,
          208.41,
          208.46,
          208.52,
          208.96,
          209.12,
          209.15,
          209.4,
          209.21,
          209.13,
          209.25,
          209.4115,
          209.51,
          209.55,
          209.78,
          210.31,
          210.59,
          210.58,
          210.15,
          210.4,
          209.51,
          209.31,
          209.26,
          209.3172,
          209.57,
          209.42,
          209.1899,
          209.18,
          209.13,
          209.6197,
          209.91,
          210.355,
          210.3999
         ],
         "low": [
          206.2,
          206.2,
          206.14,
          206.03,
          206.31,
          206.43,
          206.02,
          206.01,
          206.22,
          206,
          206.06,
          205.98,
          205.62,
          205.42,
          205.6,
          205.45,
          205.54,
          205.5,
          205.3,
          205.5,
          205.72,
          205.84,
          206.05,
          205.88,
          206,
          206.51,
          206.58,
          206.6,
          206.66,
          206.62,
          206.65,
          206.73,
          206.75,
          206.75,
          206.7,
          206.7799,
          206.7,
          206.7,
          206.68,
          206.7,
          206.75,
          206.6,
          206.75,
          206.6,
          206.63,
          206.55,
          206.55,
          206.54,
          206.18,
          206.4,
          207.08,
          206.3537,
          206.42,
          206.81,
          206.5,
          206.81,
          207.18,
          207.17,
          207.31,
          207.11,
          207.27,
          207.89,
          208.4366,
          208.1101,
          208.22,
          208.08,
          207.982,
          207.59,
          207.5,
          208.21,
          208.19,
          208.33,
          208.75,
          208.85,
          208.95,
          208.7001,
          208.83,
          208.82,
          208.87,
          209.11,
          209.07,
          209.2901,
          209.62,
          210.02,
          209.72,
          209.69,
          209.24,
          209.08,
          208.95,
          208.5601,
          208.6,
          209.1096,
          208.77,
          208.61,
          208.56,
          208.4668,
          208.7906,
          209.15,
          209.86,
          209.75
         ],
         "open": [
          206.35,
          206.38,
          206.31,
          206.34,
          206.31,
          206.45,
          206.02,
          206.19,
          206.22,
          206.05,
          206.21,
          205.98,
          205.75,
          205.46,
          205.7,
          205.45,
          205.55,
          205.56,
          205.45,
          205.71,
          205.81,
          205.98,
          206.19,
          206.21,
          206.5615,
          206.61,
          206.6999,
          206.65,
          206.66,
          206.7,
          206.72,
          206.8,
          206.77,
          206.76,
          206.82,
          206.82,
          206.75,
          206.74,
          206.84,
          206.8,
          206.9,
          206.8,
          206.75,
          206.69,
          206.8,
          206.9,
          206.99,
          206.55,
          206.72,
          207.49,
          207.08,
          206.68,
          207.1,
          206.87,
          207.385,
          207.19,
          207.28,
          207.3336,
          208.065,
          207.51,
          207.97,
          208.49,
          208.5954,
          208.68,
          208.562,
          208.21,
          207.99,
          207.69,
          208.26,
          208.425,
          208.45,
          208.94,
          209.0782,
          208.97,
          209.05,
          208.9621,
          208.875,
          209.135,
          209.33,
          209.2234,
          209.3701,
          209.76,
          210.2908,
          210.405,
          209.9087,
          209.91,
          209.32,
          209.2499,
          209.215,
          208.625,
          209.28,
          209.4,
          209.025,
          209.09,
          208.57,
          208.91,
          209.5499,
          209.9,
          210.0749,
          209.92
         ],
         "type": "candlestick",
         "x": [
          "2023-02-21T20:00:00",
          "2023-02-21T19:55:00",
          "2023-02-21T19:50:00",
          "2023-02-21T19:45:00",
          "2023-02-21T19:40:00",
          "2023-02-21T19:35:00",
          "2023-02-21T19:30:00",
          "2023-02-21T19:25:00",
          "2023-02-21T19:20:00",
          "2023-02-21T19:15:00",
          "2023-02-21T19:10:00",
          "2023-02-21T19:05:00",
          "2023-02-21T19:00:00",
          "2023-02-21T18:55:00",
          "2023-02-21T18:50:00",
          "2023-02-21T18:45:00",
          "2023-02-21T18:40:00",
          "2023-02-21T18:35:00",
          "2023-02-21T18:30:00",
          "2023-02-21T18:25:00",
          "2023-02-21T18:20:00",
          "2023-02-21T18:15:00",
          "2023-02-21T18:10:00",
          "2023-02-21T18:05:00",
          "2023-02-21T18:00:00",
          "2023-02-21T17:55:00",
          "2023-02-21T17:50:00",
          "2023-02-21T17:45:00",
          "2023-02-21T17:40:00",
          "2023-02-21T17:35:00",
          "2023-02-21T17:30:00",
          "2023-02-21T17:25:00",
          "2023-02-21T17:20:00",
          "2023-02-21T17:15:00",
          "2023-02-21T17:10:00",
          "2023-02-21T17:05:00",
          "2023-02-21T17:00:00",
          "2023-02-21T16:55:00",
          "2023-02-21T16:50:00",
          "2023-02-21T16:45:00",
          "2023-02-21T16:40:00",
          "2023-02-21T16:35:00",
          "2023-02-21T16:30:00",
          "2023-02-21T16:25:00",
          "2023-02-21T16:20:00",
          "2023-02-21T16:15:00",
          "2023-02-21T16:10:00",
          "2023-02-21T16:05:00",
          "2023-02-21T16:00:00",
          "2023-02-21T15:55:00",
          "2023-02-21T15:50:00",
          "2023-02-21T15:45:00",
          "2023-02-21T15:40:00",
          "2023-02-21T15:35:00",
          "2023-02-21T15:30:00",
          "2023-02-21T15:25:00",
          "2023-02-21T15:20:00",
          "2023-02-21T15:15:00",
          "2023-02-21T15:10:00",
          "2023-02-21T15:05:00",
          "2023-02-21T15:00:00",
          "2023-02-21T14:55:00",
          "2023-02-21T14:50:00",
          "2023-02-21T14:45:00",
          "2023-02-21T14:40:00",
          "2023-02-21T14:35:00",
          "2023-02-21T14:30:00",
          "2023-02-21T14:25:00",
          "2023-02-21T14:20:00",
          "2023-02-21T14:15:00",
          "2023-02-21T14:10:00",
          "2023-02-21T14:05:00",
          "2023-02-21T14:00:00",
          "2023-02-21T13:55:00",
          "2023-02-21T13:50:00",
          "2023-02-21T13:45:00",
          "2023-02-21T13:40:00",
          "2023-02-21T13:35:00",
          "2023-02-21T13:30:00",
          "2023-02-21T13:25:00",
          "2023-02-21T13:20:00",
          "2023-02-21T13:15:00",
          "2023-02-21T13:10:00",
          "2023-02-21T13:05:00",
          "2023-02-21T13:00:00",
          "2023-02-21T12:55:00",
          "2023-02-21T12:50:00",
          "2023-02-21T12:45:00",
          "2023-02-21T12:40:00",
          "2023-02-21T12:35:00",
          "2023-02-21T12:30:00",
          "2023-02-21T12:25:00",
          "2023-02-21T12:20:00",
          "2023-02-21T12:15:00",
          "2023-02-21T12:10:00",
          "2023-02-21T12:05:00",
          "2023-02-21T12:00:00",
          "2023-02-21T11:55:00",
          "2023-02-21T11:50:00",
          "2023-02-21T11:45:00"
         ]
        }
       ],
       "layout": {
        "template": {
         "data": {
          "bar": [
           {
            "error_x": {
             "color": "#2a3f5f"
            },
            "error_y": {
             "color": "#2a3f5f"
            },
            "marker": {
             "line": {
              "color": "#E5ECF6",
              "width": 0.5
             },
             "pattern": {
              "fillmode": "overlay",
              "size": 10,
              "solidity": 0.2
             }
            },
            "type": "bar"
           }
          ],
          "barpolar": [
           {
            "marker": {
             "line": {
              "color": "#E5ECF6",
              "width": 0.5
             },
             "pattern": {
              "fillmode": "overlay",
              "size": 10,
              "solidity": 0.2
             }
            },
            "type": "barpolar"
           }
          ],
          "carpet": [
           {
            "aaxis": {
             "endlinecolor": "#2a3f5f",
             "gridcolor": "white",
             "linecolor": "white",
             "minorgridcolor": "white",
             "startlinecolor": "#2a3f5f"
            },
            "baxis": {
             "endlinecolor": "#2a3f5f",
             "gridcolor": "white",
             "linecolor": "white",
             "minorgridcolor": "white",
             "startlinecolor": "#2a3f5f"
            },
            "type": "carpet"
           }
          ],
          "choropleth": [
           {
            "colorbar": {
             "outlinewidth": 0,
             "ticks": ""
            },
            "type": "choropleth"
           }
          ],
          "contour": [
           {
            "colorbar": {
             "outlinewidth": 0,
             "ticks": ""
            },
            "colorscale": [
             [
              0,
              "#0d0887"
             ],
             [
              0.1111111111111111,
              "#46039f"
             ],
             [
              0.2222222222222222,
              "#7201a8"
             ],
             [
              0.3333333333333333,
              "#9c179e"
             ],
             [
              0.4444444444444444,
              "#bd3786"
             ],
             [
              0.5555555555555556,
              "#d8576b"
             ],
             [
              0.6666666666666666,
              "#ed7953"
             ],
             [
              0.7777777777777778,
              "#fb9f3a"
             ],
             [
              0.8888888888888888,
              "#fdca26"
             ],
             [
              1,
              "#f0f921"
             ]
            ],
            "type": "contour"
           }
          ],
          "contourcarpet": [
           {
            "colorbar": {
             "outlinewidth": 0,
             "ticks": ""
            },
            "type": "contourcarpet"
           }
          ],
          "heatmap": [
           {
            "colorbar": {
             "outlinewidth": 0,
             "ticks": ""
            },
            "colorscale": [
             [
              0,
              "#0d0887"
             ],
             [
              0.1111111111111111,
              "#46039f"
             ],
             [
              0.2222222222222222,
              "#7201a8"
             ],
             [
              0.3333333333333333,
              "#9c179e"
             ],
             [
              0.4444444444444444,
              "#bd3786"
             ],
             [
              0.5555555555555556,
              "#d8576b"
             ],
             [
              0.6666666666666666,
              "#ed7953"
             ],
             [
              0.7777777777777778,
              "#fb9f3a"
             ],
             [
              0.8888888888888888,
              "#fdca26"
             ],
             [
              1,
              "#f0f921"
             ]
            ],
            "type": "heatmap"
           }
          ],
          "heatmapgl": [
           {
            "colorbar": {
             "outlinewidth": 0,
             "ticks": ""
            },
            "colorscale": [
             [
              0,
              "#0d0887"
             ],
             [
              0.1111111111111111,
              "#46039f"
             ],
             [
              0.2222222222222222,
              "#7201a8"
             ],
             [
              0.3333333333333333,
              "#9c179e"
             ],
             [
              0.4444444444444444,
              "#bd3786"
             ],
             [
              0.5555555555555556,
              "#d8576b"
             ],
             [
              0.6666666666666666,
              "#ed7953"
             ],
             [
              0.7777777777777778,
              "#fb9f3a"
             ],
             [
              0.8888888888888888,
              "#fdca26"
             ],
             [
              1,
              "#f0f921"
             ]
            ],
            "type": "heatmapgl"
           }
          ],
          "histogram": [
           {
            "marker": {
             "pattern": {
              "fillmode": "overlay",
              "size": 10,
              "solidity": 0.2
             }
            },
            "type": "histogram"
           }
          ],
          "histogram2d": [
           {
            "colorbar": {
             "outlinewidth": 0,
             "ticks": ""
            },
            "colorscale": [
             [
              0,
              "#0d0887"
             ],
             [
              0.1111111111111111,
              "#46039f"
             ],
             [
              0.2222222222222222,
              "#7201a8"
             ],
             [
              0.3333333333333333,
              "#9c179e"
             ],
             [
              0.4444444444444444,
              "#bd3786"
             ],
             [
              0.5555555555555556,
              "#d8576b"
             ],
             [
              0.6666666666666666,
              "#ed7953"
             ],
             [
              0.7777777777777778,
              "#fb9f3a"
             ],
             [
              0.8888888888888888,
              "#fdca26"
             ],
             [
              1,
              "#f0f921"
             ]
            ],
            "type": "histogram2d"
           }
          ],
          "histogram2dcontour": [
           {
            "colorbar": {
             "outlinewidth": 0,
             "ticks": ""
            },
            "colorscale": [
             [
              0,
              "#0d0887"
             ],
             [
              0.1111111111111111,
              "#46039f"
             ],
             [
              0.2222222222222222,
              "#7201a8"
             ],
             [
              0.3333333333333333,
              "#9c179e"
             ],
             [
              0.4444444444444444,
              "#bd3786"
             ],
             [
              0.5555555555555556,
              "#d8576b"
             ],
             [
              0.6666666666666666,
              "#ed7953"
             ],
             [
              0.7777777777777778,
              "#fb9f3a"
             ],
             [
              0.8888888888888888,
              "#fdca26"
             ],
             [
              1,
              "#f0f921"
             ]
            ],
            "type": "histogram2dcontour"
           }
          ],
          "mesh3d": [
           {
            "colorbar": {
             "outlinewidth": 0,
             "ticks": ""
            },
            "type": "mesh3d"
           }
          ],
          "parcoords": [
           {
            "line": {
             "colorbar": {
              "outlinewidth": 0,
              "ticks": ""
             }
            },
            "type": "parcoords"
           }
          ],
          "pie": [
           {
            "automargin": true,
            "type": "pie"
           }
          ],
          "scatter": [
           {
            "fillpattern": {
             "fillmode": "overlay",
             "size": 10,
             "solidity": 0.2
            },
            "type": "scatter"
           }
          ],
          "scatter3d": [
           {
            "line": {
             "colorbar": {
              "outlinewidth": 0,
              "ticks": ""
             }
            },
            "marker": {
             "colorbar": {
              "outlinewidth": 0,
              "ticks": ""
             }
            },
            "type": "scatter3d"
           }
          ],
          "scattercarpet": [
           {
            "marker": {
             "colorbar": {
              "outlinewidth": 0,
              "ticks": ""
             }
            },
            "type": "scattercarpet"
           }
          ],
          "scattergeo": [
           {
            "marker": {
             "colorbar": {
              "outlinewidth": 0,
              "ticks": ""
             }
            },
            "type": "scattergeo"
           }
          ],
          "scattergl": [
           {
            "marker": {
             "colorbar": {
              "outlinewidth": 0,
              "ticks": ""
             }
            },
            "type": "scattergl"
           }
          ],
          "scattermapbox": [
           {
            "marker": {
             "colorbar": {
              "outlinewidth": 0,
              "ticks": ""
             }
            },
            "type": "scattermapbox"
           }
          ],
          "scatterpolar": [
           {
            "marker": {
             "colorbar": {
              "outlinewidth": 0,
              "ticks": ""
             }
            },
            "type": "scatterpolar"
           }
          ],
          "scatterpolargl": [
           {
            "marker": {
             "colorbar": {
              "outlinewidth": 0,
              "ticks": ""
             }
            },
            "type": "scatterpolargl"
           }
          ],
          "scatterternary": [
           {
            "marker": {
             "colorbar": {
              "outlinewidth": 0,
              "ticks": ""
             }
            },
            "type": "scatterternary"
           }
          ],
          "surface": [
           {
            "colorbar": {
             "outlinewidth": 0,
             "ticks": ""
            },
            "colorscale": [
             [
              0,
              "#0d0887"
             ],
             [
              0.1111111111111111,
              "#46039f"
             ],
             [
              0.2222222222222222,
              "#7201a8"
             ],
             [
              0.3333333333333333,
              "#9c179e"
             ],
             [
              0.4444444444444444,
              "#bd3786"
             ],
             [
              0.5555555555555556,
              "#d8576b"
             ],
             [
              0.6666666666666666,
              "#ed7953"
             ],
             [
              0.7777777777777778,
              "#fb9f3a"
             ],
             [
              0.8888888888888888,
              "#fdca26"
             ],
             [
              1,
              "#f0f921"
             ]
            ],
            "type": "surface"
           }
          ],
          "table": [
           {
            "cells": {
             "fill": {
              "color": "#EBF0F8"
             },
             "line": {
              "color": "white"
             }
            },
            "header": {
             "fill": {
              "color": "#C8D4E3"
             },
             "line": {
              "color": "white"
             }
            },
            "type": "table"
           }
          ]
         },
         "layout": {
          "annotationdefaults": {
           "arrowcolor": "#2a3f5f",
           "arrowhead": 0,
           "arrowwidth": 1
          },
          "autotypenumbers": "strict",
          "coloraxis": {
           "colorbar": {
            "outlinewidth": 0,
            "ticks": ""
           }
          },
          "colorscale": {
           "diverging": [
            [
             0,
             "#8e0152"
            ],
            [
             0.1,
             "#c51b7d"
            ],
            [
             0.2,
             "#de77ae"
            ],
            [
             0.3,
             "#f1b6da"
            ],
            [
             0.4,
             "#fde0ef"
            ],
            [
             0.5,
             "#f7f7f7"
            ],
            [
             0.6,
             "#e6f5d0"
            ],
            [
             0.7,
             "#b8e186"
            ],
            [
             0.8,
             "#7fbc41"
            ],
            [
             0.9,
             "#4d9221"
            ],
            [
             1,
             "#276419"
            ]
           ],
           "sequential": [
            [
             0,
             "#0d0887"
            ],
            [
             0.1111111111111111,
             "#46039f"
            ],
            [
             0.2222222222222222,
             "#7201a8"
            ],
            [
             0.3333333333333333,
             "#9c179e"
            ],
            [
             0.4444444444444444,
             "#bd3786"
            ],
            [
             0.5555555555555556,
             "#d8576b"
            ],
            [
             0.6666666666666666,
             "#ed7953"
            ],
            [
             0.7777777777777778,
             "#fb9f3a"
            ],
            [
             0.8888888888888888,
             "#fdca26"
            ],
            [
             1,
             "#f0f921"
            ]
           ],
           "sequentialminus": [
            [
             0,
             "#0d0887"
            ],
            [
             0.1111111111111111,
             "#46039f"
            ],
            [
             0.2222222222222222,
             "#7201a8"
            ],
            [
             0.3333333333333333,
             "#9c179e"
            ],
            [
             0.4444444444444444,
             "#bd3786"
            ],
            [
             0.5555555555555556,
             "#d8576b"
            ],
            [
             0.6666666666666666,
             "#ed7953"
            ],
            [
             0.7777777777777778,
             "#fb9f3a"
            ],
            [
             0.8888888888888888,
             "#fdca26"
            ],
            [
             1,
             "#f0f921"
            ]
           ]
          },
          "colorway": [
           "#636efa",
           "#EF553B",
           "#00cc96",
           "#ab63fa",
           "#FFA15A",
           "#19d3f3",
           "#FF6692",
           "#B6E880",
           "#FF97FF",
           "#FECB52"
          ],
          "font": {
           "color": "#2a3f5f"
          },
          "geo": {
           "bgcolor": "white",
           "lakecolor": "white",
           "landcolor": "#E5ECF6",
           "showlakes": true,
           "showland": true,
           "subunitcolor": "white"
          },
          "hoverlabel": {
           "align": "left"
          },
          "hovermode": "closest",
          "mapbox": {
           "style": "light"
          },
          "paper_bgcolor": "white",
          "plot_bgcolor": "#E5ECF6",
          "polar": {
           "angularaxis": {
            "gridcolor": "white",
            "linecolor": "white",
            "ticks": ""
           },
           "bgcolor": "#E5ECF6",
           "radialaxis": {
            "gridcolor": "white",
            "linecolor": "white",
            "ticks": ""
           }
          },
          "scene": {
           "xaxis": {
            "backgroundcolor": "#E5ECF6",
            "gridcolor": "white",
            "gridwidth": 2,
            "linecolor": "white",
            "showbackground": true,
            "ticks": "",
            "zerolinecolor": "white"
           },
           "yaxis": {
            "backgroundcolor": "#E5ECF6",
            "gridcolor": "white",
            "gridwidth": 2,
            "linecolor": "white",
            "showbackground": true,
            "ticks": "",
            "zerolinecolor": "white"
           },
           "zaxis": {
            "backgroundcolor": "#E5ECF6",
            "gridcolor": "white",
            "gridwidth": 2,
            "linecolor": "white",
            "showbackground": true,
            "ticks": "",
            "zerolinecolor": "white"
           }
          },
          "shapedefaults": {
           "line": {
            "color": "#2a3f5f"
           }
          },
          "ternary": {
           "aaxis": {
            "gridcolor": "white",
            "linecolor": "white",
            "ticks": ""
           },
           "baxis": {
            "gridcolor": "white",
            "linecolor": "white",
            "ticks": ""
           },
           "bgcolor": "#E5ECF6",
           "caxis": {
            "gridcolor": "white",
            "linecolor": "white",
            "ticks": ""
           }
          },
          "title": {
           "x": 0.05
          },
          "xaxis": {
           "automargin": true,
           "gridcolor": "white",
           "linecolor": "white",
           "ticks": "",
           "title": {
            "standoff": 15
           },
           "zerolinecolor": "white",
           "zerolinewidth": 2
          },
          "yaxis": {
           "automargin": true,
           "gridcolor": "white",
           "linecolor": "white",
           "ticks": "",
           "title": {
            "standoff": 15
           },
           "zerolinecolor": "white",
           "zerolinewidth": 2
          }
         }
        }
       }
      },
      "text/html": [
       "<div>                            <div id=\"29fced9b-61f8-4d92-9bc2-00c62e241dff\" class=\"plotly-graph-div\" style=\"height:525px; width:100%;\"></div>            <script type=\"text/javascript\">                require([\"plotly\"], function(Plotly) {                    window.PLOTLYENV=window.PLOTLYENV || {};                                    if (document.getElementById(\"29fced9b-61f8-4d92-9bc2-00c62e241dff\")) {                    Plotly.newPlot(                        \"29fced9b-61f8-4d92-9bc2-00c62e241dff\",                        [{\"close\":[206.2,206.33,206.25,206.2,206.45,206.49,206.45,206.01,206.22,206.0,206.18,206.0,205.9,205.7,205.6,205.6,205.54,205.5,205.58,205.5,205.72,205.9,206.05,206.2,206.061,206.51,206.6,206.6,206.66,206.65,206.75,206.75,206.75,206.75,206.8,206.78,206.82,206.78,206.7,206.7457,206.8,206.9419,206.78,206.7,206.65,206.7,206.55,206.71,206.57,206.6716,207.47,207.0746,206.67,207.1,206.8828,207.39,207.1963,207.2801,207.335,208.07,207.5,207.97,208.4978,208.59,208.68,208.5495,208.21,207.9899,207.6618,208.2604,208.415,208.46,208.93,209.1,208.96,209.01,208.99,208.895,209.1299,209.315,209.2,209.391,209.745,210.28,210.4093,209.93,210.0399,209.31,209.237,209.2199,208.63,209.28,209.3791,209.01,209.09,208.5805,208.91,209.5276,209.96,210.075],\"high\":[206.42,206.4,206.33,206.38,206.45,206.55,206.45,206.19,206.22,206.18,206.2999,206.3,205.9,205.75,205.7,205.61,205.62,205.78,205.6,205.85,205.89,206.0,206.2,206.4,206.5615,206.61,206.6999,206.65,206.66,206.7,206.75,206.8,206.8,206.8,206.82,206.82,206.82,206.78,206.84,206.8,206.9,206.95,206.95,206.7,206.8,207.0,207.06,209.42,206.95,207.71,207.64,207.17,207.5323,207.32,207.41,207.57,207.5599,207.51,208.3492,208.08,208.1597,208.4999,209.24,208.77,208.68,208.661,208.4613,208.132,208.41,208.46,208.52,208.96,209.12,209.15,209.4,209.21,209.13,209.25,209.4115,209.51,209.55,209.78,210.31,210.59,210.58,210.15,210.4,209.51,209.31,209.26,209.3172,209.57,209.42,209.1899,209.18,209.13,209.6197,209.91,210.355,210.3999],\"low\":[206.2,206.2,206.14,206.03,206.31,206.43,206.02,206.01,206.22,206.0,206.06,205.98,205.62,205.42,205.6,205.45,205.54,205.5,205.3,205.5,205.72,205.84,206.05,205.88,206.0,206.51,206.58,206.6,206.66,206.62,206.65,206.73,206.75,206.75,206.7,206.7799,206.7,206.7,206.68,206.7,206.75,206.6,206.75,206.6,206.63,206.55,206.55,206.54,206.18,206.4,207.08,206.3537,206.42,206.81,206.5,206.81,207.18,207.17,207.31,207.11,207.27,207.89,208.4366,208.1101,208.22,208.08,207.982,207.59,207.5,208.21,208.19,208.33,208.75,208.85,208.95,208.7001,208.83,208.82,208.87,209.11,209.07,209.2901,209.62,210.02,209.72,209.69,209.24,209.08,208.95,208.5601,208.6,209.1096,208.77,208.61,208.56,208.4668,208.7906,209.15,209.86,209.75],\"open\":[206.35,206.38,206.31,206.34,206.31,206.45,206.02,206.19,206.22,206.05,206.21,205.98,205.75,205.46,205.7,205.45,205.55,205.56,205.45,205.71,205.81,205.98,206.19,206.21,206.5615,206.61,206.6999,206.65,206.66,206.7,206.72,206.8,206.77,206.76,206.82,206.82,206.75,206.74,206.84,206.8,206.9,206.8,206.75,206.69,206.8,206.9,206.99,206.55,206.72,207.49,207.08,206.68,207.1,206.87,207.385,207.19,207.28,207.3336,208.065,207.51,207.97,208.49,208.5954,208.68,208.562,208.21,207.99,207.69,208.26,208.425,208.45,208.94,209.0782,208.97,209.05,208.9621,208.875,209.135,209.33,209.2234,209.3701,209.76,210.2908,210.405,209.9087,209.91,209.32,209.2499,209.215,208.625,209.28,209.4,209.025,209.09,208.57,208.91,209.5499,209.9,210.0749,209.92],\"x\":[\"2023-02-21T20:00:00\",\"2023-02-21T19:55:00\",\"2023-02-21T19:50:00\",\"2023-02-21T19:45:00\",\"2023-02-21T19:40:00\",\"2023-02-21T19:35:00\",\"2023-02-21T19:30:00\",\"2023-02-21T19:25:00\",\"2023-02-21T19:20:00\",\"2023-02-21T19:15:00\",\"2023-02-21T19:10:00\",\"2023-02-21T19:05:00\",\"2023-02-21T19:00:00\",\"2023-02-21T18:55:00\",\"2023-02-21T18:50:00\",\"2023-02-21T18:45:00\",\"2023-02-21T18:40:00\",\"2023-02-21T18:35:00\",\"2023-02-21T18:30:00\",\"2023-02-21T18:25:00\",\"2023-02-21T18:20:00\",\"2023-02-21T18:15:00\",\"2023-02-21T18:10:00\",\"2023-02-21T18:05:00\",\"2023-02-21T18:00:00\",\"2023-02-21T17:55:00\",\"2023-02-21T17:50:00\",\"2023-02-21T17:45:00\",\"2023-02-21T17:40:00\",\"2023-02-21T17:35:00\",\"2023-02-21T17:30:00\",\"2023-02-21T17:25:00\",\"2023-02-21T17:20:00\",\"2023-02-21T17:15:00\",\"2023-02-21T17:10:00\",\"2023-02-21T17:05:00\",\"2023-02-21T17:00:00\",\"2023-02-21T16:55:00\",\"2023-02-21T16:50:00\",\"2023-02-21T16:45:00\",\"2023-02-21T16:40:00\",\"2023-02-21T16:35:00\",\"2023-02-21T16:30:00\",\"2023-02-21T16:25:00\",\"2023-02-21T16:20:00\",\"2023-02-21T16:15:00\",\"2023-02-21T16:10:00\",\"2023-02-21T16:05:00\",\"2023-02-21T16:00:00\",\"2023-02-21T15:55:00\",\"2023-02-21T15:50:00\",\"2023-02-21T15:45:00\",\"2023-02-21T15:40:00\",\"2023-02-21T15:35:00\",\"2023-02-21T15:30:00\",\"2023-02-21T15:25:00\",\"2023-02-21T15:20:00\",\"2023-02-21T15:15:00\",\"2023-02-21T15:10:00\",\"2023-02-21T15:05:00\",\"2023-02-21T15:00:00\",\"2023-02-21T14:55:00\",\"2023-02-21T14:50:00\",\"2023-02-21T14:45:00\",\"2023-02-21T14:40:00\",\"2023-02-21T14:35:00\",\"2023-02-21T14:30:00\",\"2023-02-21T14:25:00\",\"2023-02-21T14:20:00\",\"2023-02-21T14:15:00\",\"2023-02-21T14:10:00\",\"2023-02-21T14:05:00\",\"2023-02-21T14:00:00\",\"2023-02-21T13:55:00\",\"2023-02-21T13:50:00\",\"2023-02-21T13:45:00\",\"2023-02-21T13:40:00\",\"2023-02-21T13:35:00\",\"2023-02-21T13:30:00\",\"2023-02-21T13:25:00\",\"2023-02-21T13:20:00\",\"2023-02-21T13:15:00\",\"2023-02-21T13:10:00\",\"2023-02-21T13:05:00\",\"2023-02-21T13:00:00\",\"2023-02-21T12:55:00\",\"2023-02-21T12:50:00\",\"2023-02-21T12:45:00\",\"2023-02-21T12:40:00\",\"2023-02-21T12:35:00\",\"2023-02-21T12:30:00\",\"2023-02-21T12:25:00\",\"2023-02-21T12:20:00\",\"2023-02-21T12:15:00\",\"2023-02-21T12:10:00\",\"2023-02-21T12:05:00\",\"2023-02-21T12:00:00\",\"2023-02-21T11:55:00\",\"2023-02-21T11:50:00\",\"2023-02-21T11:45:00\"],\"type\":\"candlestick\"}],                        {\"template\":{\"data\":{\"histogram2dcontour\":[{\"type\":\"histogram2dcontour\",\"colorbar\":{\"outlinewidth\":0,\"ticks\":\"\"},\"colorscale\":[[0.0,\"#0d0887\"],[0.1111111111111111,\"#46039f\"],[0.2222222222222222,\"#7201a8\"],[0.3333333333333333,\"#9c179e\"],[0.4444444444444444,\"#bd3786\"],[0.5555555555555556,\"#d8576b\"],[0.6666666666666666,\"#ed7953\"],[0.7777777777777778,\"#fb9f3a\"],[0.8888888888888888,\"#fdca26\"],[1.0,\"#f0f921\"]]}],\"choropleth\":[{\"type\":\"choropleth\",\"colorbar\":{\"outlinewidth\":0,\"ticks\":\"\"}}],\"histogram2d\":[{\"type\":\"histogram2d\",\"colorbar\":{\"outlinewidth\":0,\"ticks\":\"\"},\"colorscale\":[[0.0,\"#0d0887\"],[0.1111111111111111,\"#46039f\"],[0.2222222222222222,\"#7201a8\"],[0.3333333333333333,\"#9c179e\"],[0.4444444444444444,\"#bd3786\"],[0.5555555555555556,\"#d8576b\"],[0.6666666666666666,\"#ed7953\"],[0.7777777777777778,\"#fb9f3a\"],[0.8888888888888888,\"#fdca26\"],[1.0,\"#f0f921\"]]}],\"heatmap\":[{\"type\":\"heatmap\",\"colorbar\":{\"outlinewidth\":0,\"ticks\":\"\"},\"colorscale\":[[0.0,\"#0d0887\"],[0.1111111111111111,\"#46039f\"],[0.2222222222222222,\"#7201a8\"],[0.3333333333333333,\"#9c179e\"],[0.4444444444444444,\"#bd3786\"],[0.5555555555555556,\"#d8576b\"],[0.6666666666666666,\"#ed7953\"],[0.7777777777777778,\"#fb9f3a\"],[0.8888888888888888,\"#fdca26\"],[1.0,\"#f0f921\"]]}],\"heatmapgl\":[{\"type\":\"heatmapgl\",\"colorbar\":{\"outlinewidth\":0,\"ticks\":\"\"},\"colorscale\":[[0.0,\"#0d0887\"],[0.1111111111111111,\"#46039f\"],[0.2222222222222222,\"#7201a8\"],[0.3333333333333333,\"#9c179e\"],[0.4444444444444444,\"#bd3786\"],[0.5555555555555556,\"#d8576b\"],[0.6666666666666666,\"#ed7953\"],[0.7777777777777778,\"#fb9f3a\"],[0.8888888888888888,\"#fdca26\"],[1.0,\"#f0f921\"]]}],\"contourcarpet\":[{\"type\":\"contourcarpet\",\"colorbar\":{\"outlinewidth\":0,\"ticks\":\"\"}}],\"contour\":[{\"type\":\"contour\",\"colorbar\":{\"outlinewidth\":0,\"ticks\":\"\"},\"colorscale\":[[0.0,\"#0d0887\"],[0.1111111111111111,\"#46039f\"],[0.2222222222222222,\"#7201a8\"],[0.3333333333333333,\"#9c179e\"],[0.4444444444444444,\"#bd3786\"],[0.5555555555555556,\"#d8576b\"],[0.6666666666666666,\"#ed7953\"],[0.7777777777777778,\"#fb9f3a\"],[0.8888888888888888,\"#fdca26\"],[1.0,\"#f0f921\"]]}],\"surface\":[{\"type\":\"surface\",\"colorbar\":{\"outlinewidth\":0,\"ticks\":\"\"},\"colorscale\":[[0.0,\"#0d0887\"],[0.1111111111111111,\"#46039f\"],[0.2222222222222222,\"#7201a8\"],[0.3333333333333333,\"#9c179e\"],[0.4444444444444444,\"#bd3786\"],[0.5555555555555556,\"#d8576b\"],[0.6666666666666666,\"#ed7953\"],[0.7777777777777778,\"#fb9f3a\"],[0.8888888888888888,\"#fdca26\"],[1.0,\"#f0f921\"]]}],\"mesh3d\":[{\"type\":\"mesh3d\",\"colorbar\":{\"outlinewidth\":0,\"ticks\":\"\"}}],\"scatter\":[{\"fillpattern\":{\"fillmode\":\"overlay\",\"size\":10,\"solidity\":0.2},\"type\":\"scatter\"}],\"parcoords\":[{\"type\":\"parcoords\",\"line\":{\"colorbar\":{\"outlinewidth\":0,\"ticks\":\"\"}}}],\"scatterpolargl\":[{\"type\":\"scatterpolargl\",\"marker\":{\"colorbar\":{\"outlinewidth\":0,\"ticks\":\"\"}}}],\"bar\":[{\"error_x\":{\"color\":\"#2a3f5f\"},\"error_y\":{\"color\":\"#2a3f5f\"},\"marker\":{\"line\":{\"color\":\"#E5ECF6\",\"width\":0.5},\"pattern\":{\"fillmode\":\"overlay\",\"size\":10,\"solidity\":0.2}},\"type\":\"bar\"}],\"scattergeo\":[{\"type\":\"scattergeo\",\"marker\":{\"colorbar\":{\"outlinewidth\":0,\"ticks\":\"\"}}}],\"scatterpolar\":[{\"type\":\"scatterpolar\",\"marker\":{\"colorbar\":{\"outlinewidth\":0,\"ticks\":\"\"}}}],\"histogram\":[{\"marker\":{\"pattern\":{\"fillmode\":\"overlay\",\"size\":10,\"solidity\":0.2}},\"type\":\"histogram\"}],\"scattergl\":[{\"type\":\"scattergl\",\"marker\":{\"colorbar\":{\"outlinewidth\":0,\"ticks\":\"\"}}}],\"scatter3d\":[{\"type\":\"scatter3d\",\"line\":{\"colorbar\":{\"outlinewidth\":0,\"ticks\":\"\"}},\"marker\":{\"colorbar\":{\"outlinewidth\":0,\"ticks\":\"\"}}}],\"scattermapbox\":[{\"type\":\"scattermapbox\",\"marker\":{\"colorbar\":{\"outlinewidth\":0,\"ticks\":\"\"}}}],\"scatterternary\":[{\"type\":\"scatterternary\",\"marker\":{\"colorbar\":{\"outlinewidth\":0,\"ticks\":\"\"}}}],\"scattercarpet\":[{\"type\":\"scattercarpet\",\"marker\":{\"colorbar\":{\"outlinewidth\":0,\"ticks\":\"\"}}}],\"carpet\":[{\"aaxis\":{\"endlinecolor\":\"#2a3f5f\",\"gridcolor\":\"white\",\"linecolor\":\"white\",\"minorgridcolor\":\"white\",\"startlinecolor\":\"#2a3f5f\"},\"baxis\":{\"endlinecolor\":\"#2a3f5f\",\"gridcolor\":\"white\",\"linecolor\":\"white\",\"minorgridcolor\":\"white\",\"startlinecolor\":\"#2a3f5f\"},\"type\":\"carpet\"}],\"table\":[{\"cells\":{\"fill\":{\"color\":\"#EBF0F8\"},\"line\":{\"color\":\"white\"}},\"header\":{\"fill\":{\"color\":\"#C8D4E3\"},\"line\":{\"color\":\"white\"}},\"type\":\"table\"}],\"barpolar\":[{\"marker\":{\"line\":{\"color\":\"#E5ECF6\",\"width\":0.5},\"pattern\":{\"fillmode\":\"overlay\",\"size\":10,\"solidity\":0.2}},\"type\":\"barpolar\"}],\"pie\":[{\"automargin\":true,\"type\":\"pie\"}]},\"layout\":{\"autotypenumbers\":\"strict\",\"colorway\":[\"#636efa\",\"#EF553B\",\"#00cc96\",\"#ab63fa\",\"#FFA15A\",\"#19d3f3\",\"#FF6692\",\"#B6E880\",\"#FF97FF\",\"#FECB52\"],\"font\":{\"color\":\"#2a3f5f\"},\"hovermode\":\"closest\",\"hoverlabel\":{\"align\":\"left\"},\"paper_bgcolor\":\"white\",\"plot_bgcolor\":\"#E5ECF6\",\"polar\":{\"bgcolor\":\"#E5ECF6\",\"angularaxis\":{\"gridcolor\":\"white\",\"linecolor\":\"white\",\"ticks\":\"\"},\"radialaxis\":{\"gridcolor\":\"white\",\"linecolor\":\"white\",\"ticks\":\"\"}},\"ternary\":{\"bgcolor\":\"#E5ECF6\",\"aaxis\":{\"gridcolor\":\"white\",\"linecolor\":\"white\",\"ticks\":\"\"},\"baxis\":{\"gridcolor\":\"white\",\"linecolor\":\"white\",\"ticks\":\"\"},\"caxis\":{\"gridcolor\":\"white\",\"linecolor\":\"white\",\"ticks\":\"\"}},\"coloraxis\":{\"colorbar\":{\"outlinewidth\":0,\"ticks\":\"\"}},\"colorscale\":{\"sequential\":[[0.0,\"#0d0887\"],[0.1111111111111111,\"#46039f\"],[0.2222222222222222,\"#7201a8\"],[0.3333333333333333,\"#9c179e\"],[0.4444444444444444,\"#bd3786\"],[0.5555555555555556,\"#d8576b\"],[0.6666666666666666,\"#ed7953\"],[0.7777777777777778,\"#fb9f3a\"],[0.8888888888888888,\"#fdca26\"],[1.0,\"#f0f921\"]],\"sequentialminus\":[[0.0,\"#0d0887\"],[0.1111111111111111,\"#46039f\"],[0.2222222222222222,\"#7201a8\"],[0.3333333333333333,\"#9c179e\"],[0.4444444444444444,\"#bd3786\"],[0.5555555555555556,\"#d8576b\"],[0.6666666666666666,\"#ed7953\"],[0.7777777777777778,\"#fb9f3a\"],[0.8888888888888888,\"#fdca26\"],[1.0,\"#f0f921\"]],\"diverging\":[[0,\"#8e0152\"],[0.1,\"#c51b7d\"],[0.2,\"#de77ae\"],[0.3,\"#f1b6da\"],[0.4,\"#fde0ef\"],[0.5,\"#f7f7f7\"],[0.6,\"#e6f5d0\"],[0.7,\"#b8e186\"],[0.8,\"#7fbc41\"],[0.9,\"#4d9221\"],[1,\"#276419\"]]},\"xaxis\":{\"gridcolor\":\"white\",\"linecolor\":\"white\",\"ticks\":\"\",\"title\":{\"standoff\":15},\"zerolinecolor\":\"white\",\"automargin\":true,\"zerolinewidth\":2},\"yaxis\":{\"gridcolor\":\"white\",\"linecolor\":\"white\",\"ticks\":\"\",\"title\":{\"standoff\":15},\"zerolinecolor\":\"white\",\"automargin\":true,\"zerolinewidth\":2},\"scene\":{\"xaxis\":{\"backgroundcolor\":\"#E5ECF6\",\"gridcolor\":\"white\",\"linecolor\":\"white\",\"showbackground\":true,\"ticks\":\"\",\"zerolinecolor\":\"white\",\"gridwidth\":2},\"yaxis\":{\"backgroundcolor\":\"#E5ECF6\",\"gridcolor\":\"white\",\"linecolor\":\"white\",\"showbackground\":true,\"ticks\":\"\",\"zerolinecolor\":\"white\",\"gridwidth\":2},\"zaxis\":{\"backgroundcolor\":\"#E5ECF6\",\"gridcolor\":\"white\",\"linecolor\":\"white\",\"showbackground\":true,\"ticks\":\"\",\"zerolinecolor\":\"white\",\"gridwidth\":2}},\"shapedefaults\":{\"line\":{\"color\":\"#2a3f5f\"}},\"annotationdefaults\":{\"arrowcolor\":\"#2a3f5f\",\"arrowhead\":0,\"arrowwidth\":1},\"geo\":{\"bgcolor\":\"white\",\"landcolor\":\"#E5ECF6\",\"subunitcolor\":\"white\",\"showland\":true,\"showlakes\":true,\"lakecolor\":\"white\"},\"title\":{\"x\":0.05},\"mapbox\":{\"style\":\"light\"}}}},                        {\"responsive\": true}                    ).then(function(){\n",
       "                            \n",
       "var gd = document.getElementById('29fced9b-61f8-4d92-9bc2-00c62e241dff');\n",
       "var x = new MutationObserver(function (mutations, observer) {{\n",
       "        var display = window.getComputedStyle(gd).display;\n",
       "        if (!display || display === 'none') {{\n",
       "            console.log([gd, 'removed!']);\n",
       "            Plotly.purge(gd);\n",
       "            observer.disconnect();\n",
       "        }}\n",
       "}});\n",
       "\n",
       "// Listen for the removal of the full notebook cells\n",
       "var notebookContainer = gd.closest('#notebook-container');\n",
       "if (notebookContainer) {{\n",
       "    x.observe(notebookContainer, {childList: true});\n",
       "}}\n",
       "\n",
       "// Listen for the clearing of the current output cell\n",
       "var outputEl = gd.closest('.output');\n",
       "if (outputEl) {{\n",
       "    x.observe(outputEl, {childList: true});\n",
       "}}\n",
       "\n",
       "                        })                };                });            </script>        </div>"
      ]
     },
     "metadata": {},
     "output_type": "display_data"
    }
   ],
   "source": [
    "strategy.plot_candlestick()"
   ]
  },
  {
   "cell_type": "code",
   "execution_count": null,
   "id": "6ac69200",
   "metadata": {},
   "outputs": [],
   "source": []
  }
 ],
 "metadata": {
  "kernelspec": {
   "display_name": "Python 3 (ipykernel)",
   "language": "python",
   "name": "python3"
  },
  "language_info": {
   "codemirror_mode": {
    "name": "ipython",
    "version": 3
   },
   "file_extension": ".py",
   "mimetype": "text/x-python",
   "name": "python",
   "nbconvert_exporter": "python",
   "pygments_lexer": "ipython3",
   "version": "3.11.2"
  }
 },
 "nbformat": 4,
 "nbformat_minor": 5
}
